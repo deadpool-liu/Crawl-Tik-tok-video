{
 "cells": [
  {
   "cell_type": "code",
   "execution_count": 8,
   "id": "cbf600aa",
   "metadata": {},
   "outputs": [],
   "source": [
    "def get_content():\n",
    "    return \"r\""
   ]
  },
  {
   "cell_type": "code",
   "execution_count": 10,
   "id": "68184595",
   "metadata": {},
   "outputs": [
    {
     "name": "stdout",
     "output_type": "stream",
     "text": [
      "123\n"
     ]
    }
   ],
   "source": [
    "if get_content():\n",
    "    print(\"123\")"
   ]
  },
  {
   "cell_type": "code",
   "execution_count": 11,
   "id": "bd241089",
   "metadata": {},
   "outputs": [],
   "source": [
    "import time"
   ]
  },
  {
   "cell_type": "code",
   "execution_count": 12,
   "id": "277bd74f",
   "metadata": {},
   "outputs": [
    {
     "data": {
      "text/plain": [
       "time.struct_time(tm_year=2021, tm_mon=7, tm_mday=17, tm_hour=14, tm_min=18, tm_sec=35, tm_wday=5, tm_yday=198, tm_isdst=0)"
      ]
     },
     "execution_count": 12,
     "metadata": {},
     "output_type": "execute_result"
    }
   ],
   "source": [
    "time.localtime()"
   ]
  },
  {
   "cell_type": "code",
   "execution_count": 16,
   "id": "aa7a90ac",
   "metadata": {},
   "outputs": [
    {
     "data": {
      "text/plain": [
       "'2021'"
      ]
     },
     "execution_count": 16,
     "metadata": {},
     "output_type": "execute_result"
    }
   ],
   "source": [
    "\n",
    "str(time.localtime()[0])"
   ]
  },
  {
   "cell_type": "code",
   "execution_count": 24,
   "id": "f1e20a30",
   "metadata": {},
   "outputs": [
    {
     "name": "stdout",
     "output_type": "stream",
     "text": [
      "None\n"
     ]
    }
   ],
   "source": [
    "import logging\n",
    "import traceback\n",
    "try:\n",
    "    print(g| + \"qwe\")\n",
    "except:\n",
    "#     print(\"={}=\".format(Exception))\n",
    "    \n",
    "    print(logging.debug(traceback.format_exc()))"
   ]
  },
  {
   "cell_type": "code",
   "execution_count": 26,
   "id": "b5c2bff5",
   "metadata": {},
   "outputs": [
    {
     "name": "stdout",
     "output_type": "stream",
     "text": [
      "p\u00001\u00006\u0000-\u0000s\u0000i\u0000g\u0000n\u0000-\u0000v\u0000a\u0000.\u0000t\u0000i\u0000k\u0000t\u0000o\u0000k\u0000c\u0000d\u0000n\u0000.\u0000c\u0000o\u0000m\u0000/\u0000o\u0000b\u0000j\u0000/\u0000t\u0000o\u0000s\u0000-\u0000m\u0000a\u0000l\u0000i\u0000v\u0000a\u0000-\u0000p\u0000-\u00000\u00000\u00006\u00008\u0000/\u00008\u00009\u00007\u00009\u0000a\u00007\u00006\u0000f\u00003\u0000f\u00001\u00005\u00004\u00006\u00008\u00006\u00009\u0000b\u00001\u00003\u00008\u0000b\u0000e\u0000a\u00001\u0000c\u0000e\u00006\u00008\u00009\u00004\u0000e\u0000?\u0000x\u0000-\u0000e\u0000x\u0000p\u0000i\u0000r\u0000e\u0000s\u0000=\u00001\u00006\u00002\u00006\u00005\u00002\u00006\u00008\u00000\u00000\u0000&\u0000x\u0000-\u0000s\u0000i\u0000g\u0000n\u0000a\u0000t\u0000u\u0000r\u0000e\u0000=\u0000q\u0000G\u00004\u0000C\u0000y\u0000S\u0000M\u0000i\u0000q\u0000t\u0000r\u0000P\u0000A\u0000e\u00000\u0000J\u0000L\u0000V\u00005\u0000H\u0000D\u00003\u0000q\u0000z\u0000%\u00002\u0000B\u0000n\u00000\u0000%\u00003\u0000D\u0000\n",
      "\n",
      "\u0000\n",
      "\n",
      "\u0000\n",
      "\n",
      "\u0000\n",
      "\n",
      "\u0000\n",
      "\n",
      "\u0000p\u00001\u00006\u0000-\u0000s\u0000i\u0000g\u0000n\u0000-\u0000v\u0000a\u0000.\u0000t\u0000i\u0000k\u0000t\u0000o\u0000k\u0000c\u0000d\u0000n\u0000.\u0000c\u0000o\u0000m\u0000/\u0000t\u0000o\u0000s\u0000-\u0000m\u0000a\u0000l\u0000i\u0000v\u0000a\u0000-\u0000a\u0000v\u0000t\u0000-\u00000\u00000\u00006\u00008\u0000/\u0000d\u00009\u0000a\u00003\u00005\u0000a\u00003\u00002\u00002\u00002\u0000e\u0000a\u0000e\u00007\u00005\u0000b\u00008\u0000e\u0000f\u00003\u0000e\u0000c\u00000\u00009\u00008\u00001\u00006\u00001\u00003\u0000c\u00006\u0000f\u0000~\u0000c\u00005\u0000_\u00001\u00000\u00000\u0000x\u00001\u00000\u00000\u0000.\u0000j\u0000p\u0000e\u0000g\u0000?\u0000x\u0000-\u0000e\u0000x\u0000p\u0000i\u0000r\u0000e\u0000s\u0000=\u00001\u00006\u00002\u00006\u00005\u00009\u00001\u00006\u00000\u00000\u0000&\u0000x\u0000-\u0000s\u0000i\u0000g\u0000n\u0000a\u0000t\u0000u\u0000r\u0000e\u0000=\u0000a\u0000E\u0000%\u00002\u0000F\u0000M\u0000e\u0000g\u00006\u0000V\u0000%\u00002\u0000F\u0000h\u0000z\u0000F\u0000a\u0000f\u0000g\u0000s\u0000u\u0000V\u0000b\u0000r\u00000\u0000%\u00002\u0000F\u0000u\u0000C\u0000s\u0000V\u00004\u0000%\u00003\u0000D\u0000\n",
      "\n",
      "\u0000\n",
      "\n",
      "\u0000\n",
      "\n",
      "\u0000\n",
      "\n",
      "\u0000\n",
      "\n",
      "\u0000v\u00001\u00009\u0000-\u0000u\u0000s\u0000.\u0000t\u0000i\u0000k\u0000t\u0000o\u0000k\u0000c\u0000d\u0000n\u0000.\u0000c\u0000o\u0000m\u0000/\u00001\u0000a\u00002\u00008\u00007\u0000b\u00001\u0000c\u0000e\u0000f\u0000b\u00003\u00004\u00002\u00001\u00008\u00007\u0000f\u00002\u00006\u00009\u00001\u0000d\u00001\u0000d\u00008\u00007\u00008\u0000e\u00002\u00002\u00007\u0000/\u00006\u00000\u0000f\u00002\u0000d\u0000b\u0000f\u00009\u0000/\u0000v\u0000i\u0000d\u0000e\u0000o\u0000/\u0000t\u0000o\u0000s\u0000/\u0000u\u0000s\u0000e\u0000a\u0000s\u0000t\u00002\u0000a\u0000/\u0000t\u0000o\u0000s\u0000-\u0000u\u0000s\u0000e\u0000a\u0000s\u0000t\u00002\u0000a\u0000-\u0000p\u0000v\u0000e\u0000-\u00000\u00000\u00006\u00008\u0000/\u00000\u00005\u00008\u0000f\u00001\u0000c\u00003\u00003\u0000b\u00006\u00000\u0000c\u00004\u00005\u00007\u00001\u00009\u0000a\u00008\u00008\u00007\u0000d\u0000d\u00001\u00007\u00005\u00001\u00009\u00005\u00006\u00001\u00003\u0000/\u0000?\u0000a\u0000=\u00001\u00002\u00003\u00003\u0000&\u0000b\u0000r\u0000=\u00002\u00001\u00003\u00008\u0000&\u0000b\u0000t\u0000=\u00001\u00000\u00006\u00009\u0000&\u0000c\u0000d\u0000=\u00000\u0000%\u00007\u0000C\u00000\u0000%\u00007\u0000C\u00001\u0000&\u0000c\u0000h\u0000=\u00000\u0000&\u0000c\u0000r\u0000=\u00000\u0000&\u0000c\u0000s\u0000=\u00000\u0000&\u0000c\u0000v\u0000=\u00001\u0000&\u0000d\u0000r\u0000=\u00000\u0000&\u0000d\u0000s\u0000=\u00003\u0000&\u0000e\u0000r\u0000=\u0000&\u0000f\u0000t\u0000=\u0000Q\u0000q\u0000.\u0000U\u0000C\u0000E\u0000X\u0000k\u0000_\u00004\u0000k\u0000a\u0000&\u0000l\u0000=\u00002\u00000\u00002\u00001\u00000\u00007\u00001\u00007\u00000\u00007\u00003\u00002\u00002\u00003\u00000\u00001\u00000\u00001\u00008\u00009\u00000\u00007\u00002\u00002\u00000\u00003\u00002\u0000B\u00000\u0000A\u00006\u0000B\u00001\u00008\u0000&\u0000l\u0000r\u0000=\u0000t\u0000i\u0000k\u0000t\u0000o\u0000k\u0000_\u0000m\u0000&\u0000m\u0000i\u0000m\u0000e\u0000_\u0000t\u0000y\u0000p\u0000e\u0000=\u0000v\u0000i\u0000d\u0000e\u0000o\u0000_\u0000m\u0000p\u00004\u0000&\u0000n\u0000e\u0000t\u0000=\u00000\u0000&\u0000p\u0000l\u0000=\u00000\u0000&\u0000q\u0000s\u0000=\u00000\u0000&\u0000r\u0000c\u0000=\u0000a\u0000j\u0000l\u0000x\u0000c\u0000m\u0000g\u00006\u0000Z\u0000m\u0000h\u0000o\u0000N\u0000j\u0000M\u0000z\u0000N\u0000z\u0000c\u0000z\u0000M\u00000\u0000A\u0000p\u0000O\u0000D\u0000g\u00008\u0000Z\u0000T\u0000k\u00001\u0000Z\u0000j\u0000s\u00008\u0000N\u00002\u0000g\u0000z\u0000O\u0000m\u0000U\u00004\u0000N\u00002\u0000d\u0000j\u0000L\u0000n\u0000E\u0000y\u0000c\u0000j\u0000Q\u0000w\u0000c\u0000G\u0000t\u0000g\u0000L\u0000S\u00001\u0000k\u0000M\u0000T\u0000Z\u0000z\u0000c\u00002\u0000F\u0000g\u0000N\u0000D\u0000U\u0000w\u0000Y\u0000z\u0000J\u0000g\u0000N\u0000D\u0000U\u0000v\u0000N\u0000m\u0000E\u00001\u0000X\u0000y\u00008\u00006\u0000Y\u0000w\u0000%\u00003\u0000D\u0000%\u00003\u0000D\u0000&\u0000v\u0000l\u0000=\u0000&\u0000v\u0000r\u0000=\u0000\n",
      "\n",
      "\u0000\n",
      "\n",
      "\u0000\n",
      "\n",
      "\u0000\n",
      "\n",
      "\u0000\n",
      "\n",
      "\u0000p\u00001\u00006\u0000-\u0000s\u0000i\u0000g\u0000n\u0000-\u0000v\u0000a\u0000.\u0000t\u0000i\u0000k\u0000t\u0000o\u0000k\u0000c\u0000d\u0000n\u0000.\u0000c\u0000o\u0000m\u0000/\u0000o\u0000b\u0000j\u0000/\u0000t\u0000o\u0000s\u0000-\u0000m\u0000a\u0000l\u0000i\u0000v\u0000a\u0000-\u0000p\u0000-\u00000\u00000\u00006\u00008\u0000/\u00000\u0000c\u00003\u00007\u0000b\u0000a\u0000b\u00005\u00008\u0000f\u00008\u00003\u00004\u0000c\u00007\u00007\u0000b\u0000e\u00004\u00005\u00008\u0000e\u00009\u00000\u00001\u0000f\u0000d\u00003\u0000b\u00008\u0000a\u00009\u0000_\u00001\u00006\u00002\u00005\u00003\u00005\u00004\u00007\u00009\u00004\u0000?\u0000x\u0000-\u0000e\u0000x\u0000p\u0000i\u0000r\u0000e\u0000s\u0000=\u00001\u00006\u00002\u00006\u00005\u00002\u00006\u00008\u00000\u00000\u0000&\u0000x\u0000-\u0000s\u0000i\u0000g\u0000n\u0000a\u0000t\u0000u\u0000r\u0000e\u0000=\u0000A\u0000H\u0000%\u00002\u0000F\u0000D\u0000H\u00003\u0000L\u0000H\u00008\u00008\u0000P\u0000j\u0000l\u00007\u0000a\u00004\u0000g\u00006\u0000F\u0000M\u0000D\u00009\u0000y\u0000A\u0000u\u00004\u0000g\u0000%\u00003\u0000D\u0000\n",
      "\n",
      "\u0000\n",
      "\n",
      "\u0000\n",
      "\n",
      "\u0000\n",
      "\n",
      "\u0000\n",
      "\n",
      "\u0000p\u00001\u00006\u0000-\u0000s\u0000i\u0000g\u0000n\u0000-\u0000v\u0000a\u0000.\u0000t\u0000i\u0000k\u0000t\u0000o\u0000k\u0000c\u0000d\u0000n\u0000.\u0000c\u0000o\u0000m\u0000/\u0000t\u0000o\u0000s\u0000-\u0000m\u0000a\u0000l\u0000i\u0000v\u0000a\u0000-\u0000a\u0000v\u0000t\u0000-\u00000\u00000\u00006\u00008\u0000/\u00000\u0000a\u0000b\u00002\u00001\u00006\u00007\u0000d\u00009\u0000c\u00004\u0000b\u0000a\u00003\u00002\u00006\u00004\u00001\u0000e\u00000\u0000e\u00007\u0000d\u00006\u00006\u0000f\u00006\u00002\u00001\u0000d\u00000\u0000a\u0000~\u0000c\u00005\u0000_\u00001\u00000\u00000\u0000x\u00001\u00000\u00000\u0000.\u0000j\u0000p\u0000e\u0000g\u0000?\u0000x\u0000-\u0000e\u0000x\u0000p\u0000i\u0000r\u0000e\u0000s\u0000=\u00001\u00006\u00002\u00006\u00005\u00009\u00001\u00006\u00000\u00000\u0000&\u0000x\u0000-\u0000s\u0000i\u0000g\u0000n\u0000a\u0000t\u0000u\u0000r\u0000e\u0000=\u0000i\u0000v\u0000N\u0000A\u0000A\u0000D\u0000w\u0000t\u0000t\u00004\u0000Y\u00003\u0000B\u0000E\u0000G\u0000a\u00008\u0000s\u0000R\u0000m\u0000U\u00000\u00005\u00005\u00005\u00004\u0000k\u0000%\u00003\u0000D\u0000\n",
      "\n",
      "\u0000\n",
      "\n",
      "\u0000\n",
      "\n",
      "\u0000\n",
      "\n",
      "\u0000\n",
      "\n",
      "\u0000v\u00003\u00009\u0000-\u0000u\u0000s\u0000.\u0000t\u0000i\u0000k\u0000t\u0000o\u0000k\u0000c\u0000d\u0000n\u0000.\u0000c\u0000o\u0000m\u0000/\u0000f\u00005\u00004\u0000f\u00003\u00002\u0000b\u0000d\u00000\u00003\u00006\u00000\u00004\u00005\u00000\u00002\u0000b\u0000a\u00004\u0000e\u0000c\u00002\u00005\u0000d\u0000a\u00001\u00003\u00008\u0000e\u0000b\u00000\u0000f\u0000/\u00006\u00000\u0000f\u00002\u0000d\u0000b\u0000e\u0000f\u0000/\u0000v\u0000i\u0000d\u0000e\u0000o\u0000/\u0000t\u0000o\u0000s\u0000/\u0000u\u0000s\u0000e\u0000a\u0000s\u0000t\u00002\u0000a\u0000/\u0000t\u0000o\u0000s\u0000-\u0000u\u0000s\u0000e\u0000a\u0000s\u0000t\u00002\u0000a\u0000-\u0000v\u0000e\u0000-\u00000\u00000\u00006\u00008\u0000c\u00000\u00000\u00004\u0000/\u00006\u00005\u0000b\u00000\u0000f\u00008\u00008\u00008\u00002\u00001\u00009\u0000c\u00004\u0000c\u0000c\u0000c\u00009\u00002\u0000b\u0000d\u0000f\u0000e\u0000d\u0000d\u0000a\u0000e\u00009\u0000b\u00006\u0000b\u0000f\u00007\u0000/\u0000?\u0000a\u0000=\u00001\u00002\u00003\u00003\u0000&\u0000b\u0000r\u0000=\u00001\u00007\u00008\u00002\u0000&\u0000b\u0000t\u0000=\u00008\u00009\u00001\u0000&\u0000c\u0000d\u0000=\u00000\u0000%\u00007\u0000C\u00000\u0000%\u00007\u0000C\u00001\u0000&\u0000c\u0000h\u0000=\u00000\u0000&\u0000c\u0000r\u0000=\u00000\u0000&\u0000c\u0000s\u0000=\u00000\u0000&\u0000c\u0000v\u0000=\u00001\u0000&\u0000d\u0000r\u0000=\u00000\u0000&\u0000d\u0000s\u0000=\u00003\u0000&\u0000e\u0000r\u0000=\u0000&\u0000f\u0000t\u0000=\u0000Q\u0000q\u0000.\u0000U\u0000C\u0000E\u0000X\u0000k\u0000_\u00004\u0000k\u0000a\u0000&\u0000l\u0000=\u00002\u00000\u00002\u00001\u00000\u00007\u00001\u00007\u00000\u00007\u00003\u00002\u00002\u00003\u00000\u00001\u00000\u00001\u00008\u00009\u00000\u00007\u00002\u00002\u00000\u00003\u00002\u0000B\u00000\u0000A\u00006\u0000B\u00001\u00008\u0000&\u0000l\u0000r\u0000=\u0000t\u0000i\u0000k\u0000t\u0000o\u0000k\u0000_\u0000m\u0000&\u0000m\u0000i\u0000m\u0000e\u0000_\u0000t\u0000y\u0000p\u0000e\u0000=\u0000v\u0000i\u0000d\u0000e\u0000o\u0000_\u0000m\u0000p\u00004\u0000&\u0000n\u0000e\u0000t\u0000=\u00000\u0000&\u0000p\u0000l\u0000=\u00000\u0000&\u0000q\u0000s\u0000=\u00000\u0000&\u0000r\u0000c\u0000=\u0000a\u0000j\u0000p\u0000z\u0000Z\u0000D\u0000p\u0000m\u0000d\u0000T\u0000p\u0000x\u0000N\u0000j\u0000M\u0000z\u0000N\u0000z\u0000c\u0000z\u0000M\u00000\u0000A\u0000p\u0000O\u00002\u0000k\u00008\u0000N\u0000W\u0000c\u00003\u0000O\u0000m\u0000U\u00007\u0000N\u0000z\u0000U\u00006\u0000Z\u0000z\u0000l\u0000m\u0000N\u0000G\u0000d\u0000i\u0000N\u0000n\u0000M\u0000z\u0000c\u0000n\u0000B\u0000z\u0000N\u0000T\u0000Z\u0000g\u0000L\u0000S\u00001\u0000k\u0000M\u0000T\u0000Z\u0000z\u0000c\u00002\u0000A\u00000\u0000X\u0000m\u0000I\u0000y\u0000N\u0000m\u0000E\u0000y\u0000Y\u0000m\u0000A\u0000w\u0000L\u0000y\u00004\u00000\u0000M\u0000z\u0000U\u00006\u0000Y\u0000w\u0000%\u00003\u0000D\u0000%\u00003\u0000D\u0000&\u0000v\u0000l\u0000=\u0000&\u0000v\u0000r\u0000=\u0000\n",
      "\n",
      "\u0000\n",
      "\n",
      "\u0000\n",
      "\n",
      "\u0000\n",
      "\n",
      "\u0000\n",
      "\n",
      "\u0000p\u00001\u00006\u0000-\u0000s\u0000i\u0000g\u0000n\u0000-\u0000v\u0000a\u0000.\u0000t\u0000i\u0000k\u0000t\u0000o\u0000k\u0000c\u0000d\u0000n\u0000.\u0000c\u0000o\u0000m\u0000/\u0000o\u0000b\u0000j\u0000/\u0000t\u0000o\u0000s\u0000-\u0000m\u0000a\u0000l\u0000i\u0000v\u0000a\u0000-\u0000p\u0000-\u00000\u00000\u00006\u00008\u0000/\u0000a\u0000c\u0000d\u0000b\u00006\u0000d\u00007\u0000d\u00005\u00007\u0000f\u00006\u00004\u00007\u00003\u00000\u00009\u0000e\u0000b\u00007\u0000b\u00009\u0000c\u0000a\u0000a\u00002\u0000d\u00006\u0000b\u00002\u0000d\u00007\u0000?\u0000x\u0000-\u0000e\u0000x\u0000p\u0000i\u0000r\u0000e\u0000s\u0000=\u00001\u00006\u00002\u00006\u00005\u00002\u00006\u00008\u00000\u00000\u0000&\u0000x\u0000-\u0000s\u0000i\u0000g\u0000n\u0000a\u0000t\u0000u\u0000r\u0000e\u0000=\u0000%\u00002\u0000B\u0000%\u00002\u0000B\u0000A\u0000o\u0000R\u0000l\u00009\u0000w\u0000e\u0000A\u0000t\u0000I\u00008\u0000t\u0000J\u0000Y\u0000Q\u0000t\u0000r\u0000C\u0000F\u0000E\u0000J\u0000e\u0000v\u0000x\u0000U\u0000%\u00003\u0000D\u0000\n",
      "\n",
      "\u0000\n",
      "\n",
      "\u0000\n",
      "\n",
      "\u0000\n",
      "\n",
      "\u0000\n",
      "\n",
      "\u0000p\u00001\u00006\u0000-\u0000s\u0000i\u0000g\u0000n\u0000-\u0000v\u0000a\u0000.\u0000t\u0000i\u0000k\u0000t\u0000o\u0000k\u0000c\u0000d\u0000n\u0000.\u0000c\u0000o\u0000m\u0000/\u0000t\u0000o\u0000s\u0000-\u0000m\u0000a\u0000l\u0000i\u0000v\u0000a\u0000-\u0000a\u0000v\u0000t\u0000-\u00000\u00000\u00006\u00008\u0000/\u00009\u0000e\u00002\u0000d\u00001\u0000b\u00006\u00002\u0000a\u0000f\u00004\u00002\u00003\u0000f\u00001\u00007\u00007\u00001\u00000\u0000b\u00001\u0000c\u0000b\u0000b\u00002\u0000e\u0000c\u0000e\u00008\u0000d\u0000d\u0000d\u0000~\u0000c\u00005\u0000_\u00001\u00000\u00000\u0000x\u00001\u00000\u00000\u0000.\u0000j\u0000p\u0000e\u0000g\u0000?\u0000x\u0000-\u0000e\u0000x\u0000p\u0000i\u0000r\u0000e\u0000s\u0000=\u00001\u00006\u00002\u00006\u00005\u00009\u00001\u00006\u00000\u00000\u0000&\u0000x\u0000-\u0000s\u0000i\u0000g\u0000n\u0000a\u0000t\u0000u\u0000r\u0000e\u0000=\u0000V\u0000X\u0000Y\u0000i\u0000T\u0000e\u0000J\u0000o\u0000N\u00001\u0000w\u0000w\u0000Y\u0000w\u0000P\u0000m\u0000m\u0000T\u0000Y\u0000T\u0000h\u0000t\u0000r\u0000d\u0000e\u0000%\u00002\u0000B\u0000w\u0000%\u00003\u0000D\u0000\n",
      "\n",
      "\u0000\n",
      "\n",
      "\u0000\n",
      "\n",
      "\u0000\n",
      "\n",
      "\u0000\n",
      "\n",
      "\u0000v\u00001\u00009\u0000-\u0000u\u0000s\u0000.\u0000t\u0000i\u0000k\u0000t\u0000o\u0000k\u0000c\u0000d\u0000n\u0000.\u0000c\u0000o\u0000m\u0000/\u00006\u00008\u0000c\u00005\u0000a\u00008\u0000d\u0000b\u0000e\u00008\u00009\u00002\u0000d\u00003\u0000d\u0000a\u00001\u0000e\u00006\u00001\u00000\u00002\u0000c\u00004\u00002\u0000d\u0000c\u0000f\u0000e\u0000f\u0000a\u00005\u0000/\u00006\u00000\u0000f\u00002\u0000d\u0000b\u0000f\u00006\u0000/\u0000v\u0000i\u0000d\u0000e\u0000o\u0000/\u0000t\u0000o\u0000s\u0000/\u0000u\u0000s\u0000e\u0000a\u0000s\u0000t\u00002\u0000a\u0000/\u0000t\u0000o\u0000s\u0000-\u0000u\u0000s\u0000e\u0000a\u0000s\u0000t\u00002\u0000a\u0000-\u0000v\u0000e\u0000-\u00000\u00000\u00006\u00008\u0000c\u00000\u00000\u00004\u0000/\u0000a\u00006\u00002\u0000e\u00006\u00002\u00007\u0000f\u0000f\u00003\u00006\u00009\u00004\u00001\u00005\u0000c\u0000b\u00009\u0000c\u00009\u0000e\u00003\u0000b\u0000f\u0000c\u00004\u0000a\u0000f\u00000\u0000f\u00007\u0000f\u0000/\u0000?\u0000a\u0000=\u00001\u00002\u00003\u00003\u0000&\u0000b\u0000r\u0000=\u00004\u00008\u00005\u00000\u0000&\u0000b\u0000t\u0000=\u00002\u00004\u00002\u00005\u0000&\u0000c\u0000d\u0000=\u00000\u0000%\u00007\u0000C\u00000\u0000%\u00007\u0000C\u00001\u0000&\u0000c\u0000h\u0000=\u00000\u0000&\u0000c\u0000r\u0000=\u00000\u0000&\u0000c\u0000s\u0000=\u00000\u0000&\u0000c\u0000v\u0000=\u00001\u0000&\u0000d\u0000r\u0000=\u00000\u0000&\u0000d\u0000s\u0000=\u00003\u0000&\u0000e\u0000r\u0000=\u0000&\u0000f\u0000t\u0000=\u0000Q\u0000q\u0000.\u0000U\u0000C\u0000E\u0000X\u0000k\u0000_\u00004\u0000k\u0000a\u0000&\u0000l\u0000=\u00002\u00000\u00002\u00001\u00000\u00007\u00001\u00007\u00000\u00007\u00003\u00002\u00002\u00003\u00000\u00001\u00000\u00001\u00008\u00009\u00000\u00007\u00002\u00002\u00000\u00003\u00002\u0000B\u00000\u0000A\u00006\u0000B\u00001\u00008\u0000&\u0000l\u0000r\u0000=\u0000t\u0000i\u0000k\u0000t\u0000o\u0000k\u0000_\u0000m\u0000&\u0000m\u0000i\u0000m\u0000e\u0000_\u0000t\u0000y\u0000p\u0000e\u0000=\u0000v\u0000i\u0000d\u0000e\u0000o\u0000_\u0000m\u0000p\u00004\u0000&\u0000n\u0000e\u0000t\u0000=\u00000\u0000&\u0000p\u0000l\u0000=\u00000\u0000&\u0000q\u0000s\u0000=\u00000\u0000&\u0000r\u0000c\u0000=\u0000M\u00003\u0000V\u0000q\u0000N\u0000T\u0000R\u00000\u0000a\u0000H\u0000B\u0000y\u0000N\u0000j\u0000M\u0000z\u0000N\u0000z\u0000c\u0000z\u0000M\u00000\u0000A\u0000p\u0000O\u00002\u0000R\u0000p\u0000M\u0000z\u0000o\u00001\u0000N\u0000T\u0000w\u00000\u0000N\u00002\u0000g\u00008\u0000P\u0000D\u0000Z\u0000k\u0000O\u0000W\u0000d\u0000j\u0000L\u00002\u00009\u0000o\u0000Z\u0000T\u0000F\u0000u\u0000X\u00002\u0000N\u0000g\u0000L\u0000S\u00001\u0000k\u0000M\u0000T\u0000Z\u0000z\u0000c\u0000y\u00009\u0000e\u0000Y\u0000m\u0000N\u0000h\u0000N\u0000m\u0000F\u0000e\u0000M\u0000T\u0000E\u0000y\u0000X\u0000j\u0000Y\u0000v\u0000L\u0000j\u0000A\u00006\u0000Y\u0000w\u0000%\u00003\u0000D\u0000%\u00003\u0000D\u0000&\u0000v\u0000l\u0000=\u0000&\u0000v\u0000r\u0000=\u0000\n",
      "\n",
      "\u0000\n",
      "\n",
      "\u0000\n",
      "\n",
      "\u0000\n",
      "\n",
      "\u0000\n",
      "\n",
      "\u0000\n"
     ]
    }
   ],
   "source": [
    "f = open(\"../OnParsing/1626508153.txt\", errors=\"ignore\")\n",
    "for i in f:\n",
    "    print(i)"
   ]
  },
  {
   "cell_type": "code",
   "execution_count": 27,
   "id": "33eee2a5",
   "metadata": {},
   "outputs": [
    {
     "data": {
      "text/plain": [
       "'v39-us.tiktokcdn.com/d04d05a9c31493a07f4a36221e7ee8fc/60f2dbf4/video/tos/useast2a/tos-useast2a-ve-0068c003/0c6c3f99959e46faa2011320e08e8811/?a=1233&br=3316&bt=1658&cd=0%7C0%7C1&ch=0&cr=0&cs=0&cv=1&dr=0&ds=3&er=&ft=Qq.UCEXk_4ka&l=202107170732230101890722032B0A6B18&lr=tiktok_m&mime_type=video_mp4&net=0&pl=0&qs=0&rc=M3lsanY0anlzNjMzNzczM0ApOmdnMzk8ZGU6NzM0PGg0Z2diYi1oMy81Xl9gLS1kMTZzc15jNS4xLjY1MmNiYS5jYGM6Yw%3D%3D&vl=&vr='"
      ]
     },
     "execution_count": 27,
     "metadata": {},
     "output_type": "execute_result"
    }
   ],
   "source": [
    "s = \" v 3 9 - u s . t i k t o k c d n . c o m / d 0 4 d 0 5 a 9 c 3 1 4 9 3 a 0 7 f 4 a 3 6 2 2 1 e 7 e e 8 f c / 6 0 f 2 d b f 4 / v i d e o / t o s / u s e a s t 2 a / t o s - u s e a s t 2 a - v e - 0 0 6 8 c 0 0 3 / 0 c 6 c 3 f 9 9 9 5 9 e 4 6 f a a 2 0 1 1 3 2 0 e 0 8 e 8 8 1 1 / ? a = 1 2 3 3 & b r = 3 3 1 6 & b t = 1 6 5 8 & c d = 0 % 7 C 0 % 7 C 1 & c h = 0 & c r = 0 & c s = 0 & c v = 1 & d r = 0 & d s = 3 & e r = & f t = Q q . U C E X k _ 4 k a & l = 2 0 2 1 0 7 1 7 0 7 3 2 2 3 0 1 0 1 8 9 0 7 2 2 0 3 2 B 0 A 6 B 1 8 & l r = t i k t o k _ m & m i m e _ t y p e = v i d e o _ m p 4 & n e t = 0 & p l = 0 & q s = 0 & r c = M 3 l s a n Y 0 a n l z N j M z N z c z M 0 A p O m d n M z k 8 Z G U 6 N z M 0 P G g 0 Z 2 d i Y i 1 o M y 8 1 X l 9 g L S 1 k M T Z z c 1 5 j N S 4 x L j Y 1 M m N i Y S 5 j Y G M 6 Y w % 3 D % 3 D & v l = & v r = \"\n",
    "\n",
    "s = s.replace(\" \", \"\")\n",
    "s"
   ]
  },
  {
   "cell_type": "code",
   "execution_count": null,
   "id": "e256f706",
   "metadata": {},
   "outputs": [],
   "source": []
  },
  {
   "cell_type": "code",
   "execution_count": 29,
   "id": "6c4bcdb1",
   "metadata": {},
   "outputs": [
    {
     "name": "stdout",
     "output_type": "stream",
     "text": [
      "=======================正在运行=======================\n",
      "../OnParsing/1626509534.txt\n",
      "../OnParsing/1626509554.txt\n"
     ]
    },
    {
     "ename": "FileNotFoundError",
     "evalue": "[Errno 2] No such file or directory: '../Temp/data.txt'",
     "output_type": "error",
     "traceback": [
      "\u001b[1;31m---------------------------------------------------------------------------\u001b[0m",
      "\u001b[1;31mFileNotFoundError\u001b[0m                         Traceback (most recent call last)",
      "\u001b[1;32mD:\\ProgramData\\Anaconda3\\lib\\shutil.py\u001b[0m in \u001b[0;36mmove\u001b[1;34m(src, dst, copy_function)\u001b[0m\n\u001b[0;32m    790\u001b[0m     \u001b[1;32mtry\u001b[0m\u001b[1;33m:\u001b[0m\u001b[1;33m\u001b[0m\u001b[1;33m\u001b[0m\u001b[0m\n\u001b[1;32m--> 791\u001b[1;33m         \u001b[0mos\u001b[0m\u001b[1;33m.\u001b[0m\u001b[0mrename\u001b[0m\u001b[1;33m(\u001b[0m\u001b[0msrc\u001b[0m\u001b[1;33m,\u001b[0m \u001b[0mreal_dst\u001b[0m\u001b[1;33m)\u001b[0m\u001b[1;33m\u001b[0m\u001b[1;33m\u001b[0m\u001b[0m\n\u001b[0m\u001b[0;32m    792\u001b[0m     \u001b[1;32mexcept\u001b[0m \u001b[0mOSError\u001b[0m\u001b[1;33m:\u001b[0m\u001b[1;33m\u001b[0m\u001b[1;33m\u001b[0m\u001b[0m\n",
      "\u001b[1;31mFileNotFoundError\u001b[0m: [WinError 2] 系统找不到指定的文件。: '../Temp/data.txt' -> '../OnParsing/1626509574.txt'",
      "\nDuring handling of the above exception, another exception occurred:\n",
      "\u001b[1;31mFileNotFoundError\u001b[0m                         Traceback (most recent call last)",
      "\u001b[1;32m<ipython-input-29-1a80148537fc>\u001b[0m in \u001b[0;36m<module>\u001b[1;34m\u001b[0m\n\u001b[0;32m     93\u001b[0m         \u001b[0mprint\u001b[0m\u001b[1;33m(\u001b[0m\u001b[1;34m\"{:=^50}\"\u001b[0m\u001b[1;33m.\u001b[0m\u001b[0mformat\u001b[0m\u001b[1;33m(\u001b[0m\u001b[1;34m\"正在运行\"\u001b[0m\u001b[1;33m)\u001b[0m\u001b[1;33m)\u001b[0m\u001b[1;33m\u001b[0m\u001b[1;33m\u001b[0m\u001b[0m\n\u001b[0;32m     94\u001b[0m         \u001b[1;32mwhile\u001b[0m \u001b[1;32mTrue\u001b[0m\u001b[1;33m:\u001b[0m\u001b[1;33m\u001b[0m\u001b[1;33m\u001b[0m\u001b[0m\n\u001b[1;32m---> 95\u001b[1;33m             \u001b[0mdownload\u001b[0m\u001b[1;33m.\u001b[0m\u001b[0mmove_url_to_on_parsing\u001b[0m\u001b[1;33m(\u001b[0m\u001b[1;33m)\u001b[0m\u001b[1;33m\u001b[0m\u001b[1;33m\u001b[0m\u001b[0m\n\u001b[0m\u001b[0;32m     96\u001b[0m             \u001b[0mdownload\u001b[0m\u001b[1;33m.\u001b[0m\u001b[0mdownload_video\u001b[0m\u001b[1;33m(\u001b[0m\u001b[1;33m)\u001b[0m\u001b[1;33m\u001b[0m\u001b[1;33m\u001b[0m\u001b[0m\n\u001b[0;32m     97\u001b[0m \u001b[1;33m\u001b[0m\u001b[0m\n",
      "\u001b[1;32m<ipython-input-29-1a80148537fc>\u001b[0m in \u001b[0;36mmove_url_to_on_parsing\u001b[1;34m(self)\u001b[0m\n\u001b[0;32m     26\u001b[0m         \u001b[0mself\u001b[0m\u001b[1;33m.\u001b[0m\u001b[0mnew_file\u001b[0m \u001b[1;33m=\u001b[0m \u001b[0mnew_file\u001b[0m\u001b[1;33m\u001b[0m\u001b[1;33m\u001b[0m\u001b[0m\n\u001b[0;32m     27\u001b[0m \u001b[1;33m\u001b[0m\u001b[0m\n\u001b[1;32m---> 28\u001b[1;33m         \u001b[0mshutil\u001b[0m\u001b[1;33m.\u001b[0m\u001b[0mmove\u001b[0m\u001b[1;33m(\u001b[0m\u001b[0mold_file\u001b[0m\u001b[1;33m,\u001b[0m \u001b[0mnew_file\u001b[0m\u001b[1;33m)\u001b[0m\u001b[1;33m\u001b[0m\u001b[1;33m\u001b[0m\u001b[0m\n\u001b[0m\u001b[0;32m     29\u001b[0m         \u001b[0mprint\u001b[0m\u001b[1;33m(\u001b[0m\u001b[0mnew_file\u001b[0m\u001b[1;33m)\u001b[0m\u001b[1;33m\u001b[0m\u001b[1;33m\u001b[0m\u001b[0m\n\u001b[0;32m     30\u001b[0m         \u001b[1;31m# with open(self.urls, \"w\", encoding=\"utf-8\") as f:\u001b[0m\u001b[1;33m\u001b[0m\u001b[1;33m\u001b[0m\u001b[1;33m\u001b[0m\u001b[0m\n",
      "\u001b[1;32mD:\\ProgramData\\Anaconda3\\lib\\shutil.py\u001b[0m in \u001b[0;36mmove\u001b[1;34m(src, dst, copy_function)\u001b[0m\n\u001b[0;32m    803\u001b[0m             \u001b[0mrmtree\u001b[0m\u001b[1;33m(\u001b[0m\u001b[0msrc\u001b[0m\u001b[1;33m)\u001b[0m\u001b[1;33m\u001b[0m\u001b[1;33m\u001b[0m\u001b[0m\n\u001b[0;32m    804\u001b[0m         \u001b[1;32melse\u001b[0m\u001b[1;33m:\u001b[0m\u001b[1;33m\u001b[0m\u001b[1;33m\u001b[0m\u001b[0m\n\u001b[1;32m--> 805\u001b[1;33m             \u001b[0mcopy_function\u001b[0m\u001b[1;33m(\u001b[0m\u001b[0msrc\u001b[0m\u001b[1;33m,\u001b[0m \u001b[0mreal_dst\u001b[0m\u001b[1;33m)\u001b[0m\u001b[1;33m\u001b[0m\u001b[1;33m\u001b[0m\u001b[0m\n\u001b[0m\u001b[0;32m    806\u001b[0m             \u001b[0mos\u001b[0m\u001b[1;33m.\u001b[0m\u001b[0munlink\u001b[0m\u001b[1;33m(\u001b[0m\u001b[0msrc\u001b[0m\u001b[1;33m)\u001b[0m\u001b[1;33m\u001b[0m\u001b[1;33m\u001b[0m\u001b[0m\n\u001b[0;32m    807\u001b[0m     \u001b[1;32mreturn\u001b[0m \u001b[0mreal_dst\u001b[0m\u001b[1;33m\u001b[0m\u001b[1;33m\u001b[0m\u001b[0m\n",
      "\u001b[1;32mD:\\ProgramData\\Anaconda3\\lib\\shutil.py\u001b[0m in \u001b[0;36mcopy2\u001b[1;34m(src, dst, follow_symlinks)\u001b[0m\n\u001b[0;32m    433\u001b[0m     \u001b[1;32mif\u001b[0m \u001b[0mos\u001b[0m\u001b[1;33m.\u001b[0m\u001b[0mpath\u001b[0m\u001b[1;33m.\u001b[0m\u001b[0misdir\u001b[0m\u001b[1;33m(\u001b[0m\u001b[0mdst\u001b[0m\u001b[1;33m)\u001b[0m\u001b[1;33m:\u001b[0m\u001b[1;33m\u001b[0m\u001b[1;33m\u001b[0m\u001b[0m\n\u001b[0;32m    434\u001b[0m         \u001b[0mdst\u001b[0m \u001b[1;33m=\u001b[0m \u001b[0mos\u001b[0m\u001b[1;33m.\u001b[0m\u001b[0mpath\u001b[0m\u001b[1;33m.\u001b[0m\u001b[0mjoin\u001b[0m\u001b[1;33m(\u001b[0m\u001b[0mdst\u001b[0m\u001b[1;33m,\u001b[0m \u001b[0mos\u001b[0m\u001b[1;33m.\u001b[0m\u001b[0mpath\u001b[0m\u001b[1;33m.\u001b[0m\u001b[0mbasename\u001b[0m\u001b[1;33m(\u001b[0m\u001b[0msrc\u001b[0m\u001b[1;33m)\u001b[0m\u001b[1;33m)\u001b[0m\u001b[1;33m\u001b[0m\u001b[1;33m\u001b[0m\u001b[0m\n\u001b[1;32m--> 435\u001b[1;33m     \u001b[0mcopyfile\u001b[0m\u001b[1;33m(\u001b[0m\u001b[0msrc\u001b[0m\u001b[1;33m,\u001b[0m \u001b[0mdst\u001b[0m\u001b[1;33m,\u001b[0m \u001b[0mfollow_symlinks\u001b[0m\u001b[1;33m=\u001b[0m\u001b[0mfollow_symlinks\u001b[0m\u001b[1;33m)\u001b[0m\u001b[1;33m\u001b[0m\u001b[1;33m\u001b[0m\u001b[0m\n\u001b[0m\u001b[0;32m    436\u001b[0m     \u001b[0mcopystat\u001b[0m\u001b[1;33m(\u001b[0m\u001b[0msrc\u001b[0m\u001b[1;33m,\u001b[0m \u001b[0mdst\u001b[0m\u001b[1;33m,\u001b[0m \u001b[0mfollow_symlinks\u001b[0m\u001b[1;33m=\u001b[0m\u001b[0mfollow_symlinks\u001b[0m\u001b[1;33m)\u001b[0m\u001b[1;33m\u001b[0m\u001b[1;33m\u001b[0m\u001b[0m\n\u001b[0;32m    437\u001b[0m     \u001b[1;32mreturn\u001b[0m \u001b[0mdst\u001b[0m\u001b[1;33m\u001b[0m\u001b[1;33m\u001b[0m\u001b[0m\n",
      "\u001b[1;32mD:\\ProgramData\\Anaconda3\\lib\\shutil.py\u001b[0m in \u001b[0;36mcopyfile\u001b[1;34m(src, dst, follow_symlinks)\u001b[0m\n\u001b[0;32m    262\u001b[0m         \u001b[0mos\u001b[0m\u001b[1;33m.\u001b[0m\u001b[0msymlink\u001b[0m\u001b[1;33m(\u001b[0m\u001b[0mos\u001b[0m\u001b[1;33m.\u001b[0m\u001b[0mreadlink\u001b[0m\u001b[1;33m(\u001b[0m\u001b[0msrc\u001b[0m\u001b[1;33m)\u001b[0m\u001b[1;33m,\u001b[0m \u001b[0mdst\u001b[0m\u001b[1;33m)\u001b[0m\u001b[1;33m\u001b[0m\u001b[1;33m\u001b[0m\u001b[0m\n\u001b[0;32m    263\u001b[0m     \u001b[1;32melse\u001b[0m\u001b[1;33m:\u001b[0m\u001b[1;33m\u001b[0m\u001b[1;33m\u001b[0m\u001b[0m\n\u001b[1;32m--> 264\u001b[1;33m         \u001b[1;32mwith\u001b[0m \u001b[0mopen\u001b[0m\u001b[1;33m(\u001b[0m\u001b[0msrc\u001b[0m\u001b[1;33m,\u001b[0m \u001b[1;34m'rb'\u001b[0m\u001b[1;33m)\u001b[0m \u001b[1;32mas\u001b[0m \u001b[0mfsrc\u001b[0m\u001b[1;33m,\u001b[0m \u001b[0mopen\u001b[0m\u001b[1;33m(\u001b[0m\u001b[0mdst\u001b[0m\u001b[1;33m,\u001b[0m \u001b[1;34m'wb'\u001b[0m\u001b[1;33m)\u001b[0m \u001b[1;32mas\u001b[0m \u001b[0mfdst\u001b[0m\u001b[1;33m:\u001b[0m\u001b[1;33m\u001b[0m\u001b[1;33m\u001b[0m\u001b[0m\n\u001b[0m\u001b[0;32m    265\u001b[0m             \u001b[1;31m# macOS\u001b[0m\u001b[1;33m\u001b[0m\u001b[1;33m\u001b[0m\u001b[1;33m\u001b[0m\u001b[0m\n\u001b[0;32m    266\u001b[0m             \u001b[1;32mif\u001b[0m \u001b[0m_HAS_FCOPYFILE\u001b[0m\u001b[1;33m:\u001b[0m\u001b[1;33m\u001b[0m\u001b[1;33m\u001b[0m\u001b[0m\n",
      "\u001b[1;31mFileNotFoundError\u001b[0m: [Errno 2] No such file or directory: '../Temp/data.txt'"
     ]
    }
   ],
   "source": [
    "# encoding = utf-8\n",
    "# 将文件转移到OnParsing这个文件夹中\n",
    "import os\n",
    "import time\n",
    "import shutil\n",
    "import requests\n",
    "\n",
    "\n",
    "class DownloadProcessing(object):\n",
    "    def __init__(self):\n",
    "        self.urls = \"../Temp/data.txt\"\n",
    "        self.video_path = \"../Video\"\n",
    "        self.new_file_name = str(time.time())[:10]\n",
    "        self.on_parsing_dir = \"../OnParsing\"\n",
    "        self.new_file = \"\"\n",
    "        self.bug_log = \"../Buglog\"\n",
    "        self.request_dir = [\"Buglog\", \"OnParsing\", \"Processing\", \"Temp\", \"Video\"]\n",
    "\n",
    "    def move_url_to_on_parsing(self):\n",
    "        for d in self.request_dir:\n",
    "            if not os.path.exists(\"../\" + d):\n",
    "                os.mkdir(\"../\" + d)\n",
    "\n",
    "        old_file = self.urls\n",
    "        new_file = self.on_parsing_dir + \"/\" + self.new_file_name + \".txt\"\n",
    "        self.new_file = new_file\n",
    "\n",
    "        shutil.move(old_file, new_file)\n",
    "        print(new_file)\n",
    "        # with open(self.urls, \"w\", encoding=\"utf-8\") as f:\n",
    "        #     f.write(\"1\")\n",
    "\n",
    "    def parse_url(self):\n",
    "        video_url = []\n",
    "        f = open(self.new_file, encoding=\"utf-8\", errors=\"ignore\")\n",
    "        for line in f:\n",
    "            # # print()\n",
    "            # line = line.text\n",
    "#             print(\"here\", str(line).replace(\" \", \"\"))\n",
    "            # for i in line:\n",
    "            #     print(i)\n",
    "\n",
    "            if \"vr=\" in line:\n",
    "                print(line)\n",
    "                video_url.append(line)\n",
    "\n",
    "        return video_url\n",
    "\n",
    "    @staticmethod\n",
    "    def get_url_content(url):\n",
    "        state = False\n",
    "        request_count = 1\n",
    "        max_request_count = 5\n",
    "        while not state:\n",
    "            try:\n",
    "                time.sleep(1)\n",
    "                content = requests.get(url).content\n",
    "                return content\n",
    "            except Exception as e:\n",
    "                # t = time.localtime()\n",
    "                # log_file_name = str(t[0]) + \"_\" + str(t[1]) + \"_\" + str(t[2]) + \".txt\"   # 2021_7_23.txt\n",
    "                # log_time = str(t[0]) + \"_\" + str(t[1]) + \"_\" + str(t[2]) + str(t[3]) + \"_\" + str(t[4])\n",
    "                print(\"{:=^50}\".format(\"出错啦！10秒后重试，重试次数：{}/{}！\".format(request_count, max_request_count)))\n",
    "                print(\"Bug-info:\", Exception)\n",
    "                # with open(self.bug_log + log_file_name, \"a\") as f:\n",
    "                #     f.write(log_time + \"|\" + str(Exception))\n",
    "                if request_count <= max_request_count:\n",
    "                    time.sleep(10)\n",
    "                    request_count += 1\n",
    "                else:\n",
    "                    return None\n",
    "\n",
    "    def download_video(self):\n",
    "        save_dir = self.video_path + \"/\" + self.new_file_name\n",
    "        if not os.path.exists(save_dir):\n",
    "            os.mkdir(save_dir)\n",
    "        for url in self.parse_url():\n",
    "            print(url)\n",
    "            video = self.get_url_content(url)\n",
    "            video_name = save_dir + str(time.time())[:10] + \".mp4\"\n",
    "            if video:\n",
    "                with open(video_name, \"wb\") as f:\n",
    "                    f.write(video)\n",
    "                print(\"已保存视频：{}\".format(video_name))\n",
    "\n",
    "\n",
    "if __name__ == '__main__':\n",
    "    download = DownloadProcessing()\n",
    "    if not os.path.exists(download.urls):\n",
    "        print(\"请先运行Fiddler再启动本程序，10秒后自动退出运行！\")\n",
    "        time.sleep(10)\n",
    "    else:\n",
    "        print(\"{:=^50}\".format(\"正在运行\"))\n",
    "        while True:\n",
    "            download.move_url_to_on_parsing()\n",
    "            download.download_video()\n",
    "\n",
    "            time.sleep(20)\n",
    "            # 更新保存的文件名\n",
    "            download.new_file_name = str(time.time())[:10]\n",
    "\n",
    "\n"
   ]
  },
  {
   "cell_type": "code",
   "execution_count": null,
   "id": "68ee9c04",
   "metadata": {},
   "outputs": [],
   "source": []
  },
  {
   "cell_type": "code",
   "execution_count": null,
   "id": "1ad65c4b",
   "metadata": {},
   "outputs": [],
   "source": []
  }
 ],
 "metadata": {
  "kernelspec": {
   "display_name": "Python 3",
   "language": "python",
   "name": "python3"
  },
  "language_info": {
   "codemirror_mode": {
    "name": "ipython",
    "version": 3
   },
   "file_extension": ".py",
   "mimetype": "text/x-python",
   "name": "python",
   "nbconvert_exporter": "python",
   "pygments_lexer": "ipython3",
   "version": "3.8.8"
  }
 },
 "nbformat": 4,
 "nbformat_minor": 5
}
